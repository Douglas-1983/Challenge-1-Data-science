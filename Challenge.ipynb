{
  "nbformat": 4,
  "nbformat_minor": 0,
  "metadata": {
    "colab": {
      "provenance": [],
      "include_colab_link": true
    },
    "kernelspec": {
      "name": "python3",
      "display_name": "Python 3"
    },
    "language_info": {
      "name": "python"
    }
  },
  "cells": [
    {
      "cell_type": "markdown",
      "metadata": {
        "id": "view-in-github",
        "colab_type": "text"
      },
      "source": [
        "<a href=\"https://colab.research.google.com/github/Douglas-1983/Challenge-1-Data-science/blob/main/Challenge.ipynb\" target=\"_parent\"><img src=\"https://colab.research.google.com/assets/colab-badge.svg\" alt=\"Open In Colab\"/></a>"
      ]
    },
    {
      "cell_type": "markdown",
      "source": [
        "### Importação dos dados\n",
        "\n"
      ],
      "metadata": {
        "id": "RhEdWd9YUR6H"
      }
    },
    {
      "cell_type": "code",
      "execution_count": 17,
      "metadata": {
        "colab": {
          "base_uri": "https://localhost:8080/",
          "height": 365
        },
        "id": "T3EvaeQ_INIL",
        "outputId": "8033cd6b-66df-4132-a69f-321791e5ff1e"
      },
      "outputs": [
        {
          "output_type": "execute_result",
          "data": {
            "text/plain": [
              "                 Produto Categoria do Produto    Preço      Frete  \\\n",
              "0     Assistente virtual          eletronicos   219.08   9.249790   \n",
              "1         Mesa de jantar               moveis   256.35  11.234305   \n",
              "2      Jogo de tabuleiro           brinquedos   279.51  21.262681   \n",
              "3            Micro-ondas     eletrodomesticos  1009.99  54.667344   \n",
              "4  Cadeira de escritório               moveis   446.99  26.964689   \n",
              "\n",
              "  Data da Compra        Vendedor Local da compra  Avaliação da compra  \\\n",
              "0     16/01/2021     Pedro Gomes              SP                    4   \n",
              "1     18/05/2022  Beatriz Moraes              RJ                    1   \n",
              "2     15/03/2021      João Souza              DF                    1   \n",
              "3     03/05/2022      João Souza              RS                    4   \n",
              "4     07/11/2020   Larissa Alves              MG                    5   \n",
              "\n",
              "  Tipo de pagamento  Quantidade de parcelas    lat    lon  \n",
              "0    cartao_credito                       8 -22.19 -48.79  \n",
              "1    cartao_credito                       4 -22.25 -42.66  \n",
              "2    cartao_credito                       1 -15.83 -47.86  \n",
              "3            boleto                       1 -30.17 -53.50  \n",
              "4            boleto                       1 -18.10 -44.38  "
            ],
            "text/html": [
              "\n",
              "  <div id=\"df-de3a808c-2fcf-48a3-b9be-726c2bd369bd\" class=\"colab-df-container\">\n",
              "    <div>\n",
              "<style scoped>\n",
              "    .dataframe tbody tr th:only-of-type {\n",
              "        vertical-align: middle;\n",
              "    }\n",
              "\n",
              "    .dataframe tbody tr th {\n",
              "        vertical-align: top;\n",
              "    }\n",
              "\n",
              "    .dataframe thead th {\n",
              "        text-align: right;\n",
              "    }\n",
              "</style>\n",
              "<table border=\"1\" class=\"dataframe\">\n",
              "  <thead>\n",
              "    <tr style=\"text-align: right;\">\n",
              "      <th></th>\n",
              "      <th>Produto</th>\n",
              "      <th>Categoria do Produto</th>\n",
              "      <th>Preço</th>\n",
              "      <th>Frete</th>\n",
              "      <th>Data da Compra</th>\n",
              "      <th>Vendedor</th>\n",
              "      <th>Local da compra</th>\n",
              "      <th>Avaliação da compra</th>\n",
              "      <th>Tipo de pagamento</th>\n",
              "      <th>Quantidade de parcelas</th>\n",
              "      <th>lat</th>\n",
              "      <th>lon</th>\n",
              "    </tr>\n",
              "  </thead>\n",
              "  <tbody>\n",
              "    <tr>\n",
              "      <th>0</th>\n",
              "      <td>Assistente virtual</td>\n",
              "      <td>eletronicos</td>\n",
              "      <td>219.08</td>\n",
              "      <td>9.249790</td>\n",
              "      <td>16/01/2021</td>\n",
              "      <td>Pedro Gomes</td>\n",
              "      <td>SP</td>\n",
              "      <td>4</td>\n",
              "      <td>cartao_credito</td>\n",
              "      <td>8</td>\n",
              "      <td>-22.19</td>\n",
              "      <td>-48.79</td>\n",
              "    </tr>\n",
              "    <tr>\n",
              "      <th>1</th>\n",
              "      <td>Mesa de jantar</td>\n",
              "      <td>moveis</td>\n",
              "      <td>256.35</td>\n",
              "      <td>11.234305</td>\n",
              "      <td>18/05/2022</td>\n",
              "      <td>Beatriz Moraes</td>\n",
              "      <td>RJ</td>\n",
              "      <td>1</td>\n",
              "      <td>cartao_credito</td>\n",
              "      <td>4</td>\n",
              "      <td>-22.25</td>\n",
              "      <td>-42.66</td>\n",
              "    </tr>\n",
              "    <tr>\n",
              "      <th>2</th>\n",
              "      <td>Jogo de tabuleiro</td>\n",
              "      <td>brinquedos</td>\n",
              "      <td>279.51</td>\n",
              "      <td>21.262681</td>\n",
              "      <td>15/03/2021</td>\n",
              "      <td>João Souza</td>\n",
              "      <td>DF</td>\n",
              "      <td>1</td>\n",
              "      <td>cartao_credito</td>\n",
              "      <td>1</td>\n",
              "      <td>-15.83</td>\n",
              "      <td>-47.86</td>\n",
              "    </tr>\n",
              "    <tr>\n",
              "      <th>3</th>\n",
              "      <td>Micro-ondas</td>\n",
              "      <td>eletrodomesticos</td>\n",
              "      <td>1009.99</td>\n",
              "      <td>54.667344</td>\n",
              "      <td>03/05/2022</td>\n",
              "      <td>João Souza</td>\n",
              "      <td>RS</td>\n",
              "      <td>4</td>\n",
              "      <td>boleto</td>\n",
              "      <td>1</td>\n",
              "      <td>-30.17</td>\n",
              "      <td>-53.50</td>\n",
              "    </tr>\n",
              "    <tr>\n",
              "      <th>4</th>\n",
              "      <td>Cadeira de escritório</td>\n",
              "      <td>moveis</td>\n",
              "      <td>446.99</td>\n",
              "      <td>26.964689</td>\n",
              "      <td>07/11/2020</td>\n",
              "      <td>Larissa Alves</td>\n",
              "      <td>MG</td>\n",
              "      <td>5</td>\n",
              "      <td>boleto</td>\n",
              "      <td>1</td>\n",
              "      <td>-18.10</td>\n",
              "      <td>-44.38</td>\n",
              "    </tr>\n",
              "  </tbody>\n",
              "</table>\n",
              "</div>\n",
              "    <div class=\"colab-df-buttons\">\n",
              "\n",
              "  <div class=\"colab-df-container\">\n",
              "    <button class=\"colab-df-convert\" onclick=\"convertToInteractive('df-de3a808c-2fcf-48a3-b9be-726c2bd369bd')\"\n",
              "            title=\"Convert this dataframe to an interactive table.\"\n",
              "            style=\"display:none;\">\n",
              "\n",
              "  <svg xmlns=\"http://www.w3.org/2000/svg\" height=\"24px\" viewBox=\"0 -960 960 960\">\n",
              "    <path d=\"M120-120v-720h720v720H120Zm60-500h600v-160H180v160Zm220 220h160v-160H400v160Zm0 220h160v-160H400v160ZM180-400h160v-160H180v160Zm440 0h160v-160H620v160ZM180-180h160v-160H180v160Zm440 0h160v-160H620v160Z\"/>\n",
              "  </svg>\n",
              "    </button>\n",
              "\n",
              "  <style>\n",
              "    .colab-df-container {\n",
              "      display:flex;\n",
              "      gap: 12px;\n",
              "    }\n",
              "\n",
              "    .colab-df-convert {\n",
              "      background-color: #E8F0FE;\n",
              "      border: none;\n",
              "      border-radius: 50%;\n",
              "      cursor: pointer;\n",
              "      display: none;\n",
              "      fill: #1967D2;\n",
              "      height: 32px;\n",
              "      padding: 0 0 0 0;\n",
              "      width: 32px;\n",
              "    }\n",
              "\n",
              "    .colab-df-convert:hover {\n",
              "      background-color: #E2EBFA;\n",
              "      box-shadow: 0px 1px 2px rgba(60, 64, 67, 0.3), 0px 1px 3px 1px rgba(60, 64, 67, 0.15);\n",
              "      fill: #174EA6;\n",
              "    }\n",
              "\n",
              "    .colab-df-buttons div {\n",
              "      margin-bottom: 4px;\n",
              "    }\n",
              "\n",
              "    [theme=dark] .colab-df-convert {\n",
              "      background-color: #3B4455;\n",
              "      fill: #D2E3FC;\n",
              "    }\n",
              "\n",
              "    [theme=dark] .colab-df-convert:hover {\n",
              "      background-color: #434B5C;\n",
              "      box-shadow: 0px 1px 3px 1px rgba(0, 0, 0, 0.15);\n",
              "      filter: drop-shadow(0px 1px 2px rgba(0, 0, 0, 0.3));\n",
              "      fill: #FFFFFF;\n",
              "    }\n",
              "  </style>\n",
              "\n",
              "    <script>\n",
              "      const buttonEl =\n",
              "        document.querySelector('#df-de3a808c-2fcf-48a3-b9be-726c2bd369bd button.colab-df-convert');\n",
              "      buttonEl.style.display =\n",
              "        google.colab.kernel.accessAllowed ? 'block' : 'none';\n",
              "\n",
              "      async function convertToInteractive(key) {\n",
              "        const element = document.querySelector('#df-de3a808c-2fcf-48a3-b9be-726c2bd369bd');\n",
              "        const dataTable =\n",
              "          await google.colab.kernel.invokeFunction('convertToInteractive',\n",
              "                                                    [key], {});\n",
              "        if (!dataTable) return;\n",
              "\n",
              "        const docLinkHtml = 'Like what you see? Visit the ' +\n",
              "          '<a target=\"_blank\" href=https://colab.research.google.com/notebooks/data_table.ipynb>data table notebook</a>'\n",
              "          + ' to learn more about interactive tables.';\n",
              "        element.innerHTML = '';\n",
              "        dataTable['output_type'] = 'display_data';\n",
              "        await google.colab.output.renderOutput(dataTable, element);\n",
              "        const docLink = document.createElement('div');\n",
              "        docLink.innerHTML = docLinkHtml;\n",
              "        element.appendChild(docLink);\n",
              "      }\n",
              "    </script>\n",
              "  </div>\n",
              "\n",
              "\n",
              "<div id=\"df-f3a251ac-6f87-42e7-89d4-dd2537817234\">\n",
              "  <button class=\"colab-df-quickchart\" onclick=\"quickchart('df-f3a251ac-6f87-42e7-89d4-dd2537817234')\"\n",
              "            title=\"Suggest charts\"\n",
              "            style=\"display:none;\">\n",
              "\n",
              "<svg xmlns=\"http://www.w3.org/2000/svg\" height=\"24px\"viewBox=\"0 0 24 24\"\n",
              "     width=\"24px\">\n",
              "    <g>\n",
              "        <path d=\"M19 3H5c-1.1 0-2 .9-2 2v14c0 1.1.9 2 2 2h14c1.1 0 2-.9 2-2V5c0-1.1-.9-2-2-2zM9 17H7v-7h2v7zm4 0h-2V7h2v10zm4 0h-2v-4h2v4z\"/>\n",
              "    </g>\n",
              "</svg>\n",
              "  </button>\n",
              "\n",
              "<style>\n",
              "  .colab-df-quickchart {\n",
              "      --bg-color: #E8F0FE;\n",
              "      --fill-color: #1967D2;\n",
              "      --hover-bg-color: #E2EBFA;\n",
              "      --hover-fill-color: #174EA6;\n",
              "      --disabled-fill-color: #AAA;\n",
              "      --disabled-bg-color: #DDD;\n",
              "  }\n",
              "\n",
              "  [theme=dark] .colab-df-quickchart {\n",
              "      --bg-color: #3B4455;\n",
              "      --fill-color: #D2E3FC;\n",
              "      --hover-bg-color: #434B5C;\n",
              "      --hover-fill-color: #FFFFFF;\n",
              "      --disabled-bg-color: #3B4455;\n",
              "      --disabled-fill-color: #666;\n",
              "  }\n",
              "\n",
              "  .colab-df-quickchart {\n",
              "    background-color: var(--bg-color);\n",
              "    border: none;\n",
              "    border-radius: 50%;\n",
              "    cursor: pointer;\n",
              "    display: none;\n",
              "    fill: var(--fill-color);\n",
              "    height: 32px;\n",
              "    padding: 0;\n",
              "    width: 32px;\n",
              "  }\n",
              "\n",
              "  .colab-df-quickchart:hover {\n",
              "    background-color: var(--hover-bg-color);\n",
              "    box-shadow: 0 1px 2px rgba(60, 64, 67, 0.3), 0 1px 3px 1px rgba(60, 64, 67, 0.15);\n",
              "    fill: var(--button-hover-fill-color);\n",
              "  }\n",
              "\n",
              "  .colab-df-quickchart-complete:disabled,\n",
              "  .colab-df-quickchart-complete:disabled:hover {\n",
              "    background-color: var(--disabled-bg-color);\n",
              "    fill: var(--disabled-fill-color);\n",
              "    box-shadow: none;\n",
              "  }\n",
              "\n",
              "  .colab-df-spinner {\n",
              "    border: 2px solid var(--fill-color);\n",
              "    border-color: transparent;\n",
              "    border-bottom-color: var(--fill-color);\n",
              "    animation:\n",
              "      spin 1s steps(1) infinite;\n",
              "  }\n",
              "\n",
              "  @keyframes spin {\n",
              "    0% {\n",
              "      border-color: transparent;\n",
              "      border-bottom-color: var(--fill-color);\n",
              "      border-left-color: var(--fill-color);\n",
              "    }\n",
              "    20% {\n",
              "      border-color: transparent;\n",
              "      border-left-color: var(--fill-color);\n",
              "      border-top-color: var(--fill-color);\n",
              "    }\n",
              "    30% {\n",
              "      border-color: transparent;\n",
              "      border-left-color: var(--fill-color);\n",
              "      border-top-color: var(--fill-color);\n",
              "      border-right-color: var(--fill-color);\n",
              "    }\n",
              "    40% {\n",
              "      border-color: transparent;\n",
              "      border-right-color: var(--fill-color);\n",
              "      border-top-color: var(--fill-color);\n",
              "    }\n",
              "    60% {\n",
              "      border-color: transparent;\n",
              "      border-right-color: var(--fill-color);\n",
              "    }\n",
              "    80% {\n",
              "      border-color: transparent;\n",
              "      border-right-color: var(--fill-color);\n",
              "      border-bottom-color: var(--fill-color);\n",
              "    }\n",
              "    90% {\n",
              "      border-color: transparent;\n",
              "      border-bottom-color: var(--fill-color);\n",
              "    }\n",
              "  }\n",
              "</style>\n",
              "\n",
              "  <script>\n",
              "    async function quickchart(key) {\n",
              "      const quickchartButtonEl =\n",
              "        document.querySelector('#' + key + ' button');\n",
              "      quickchartButtonEl.disabled = true;  // To prevent multiple clicks.\n",
              "      quickchartButtonEl.classList.add('colab-df-spinner');\n",
              "      try {\n",
              "        const charts = await google.colab.kernel.invokeFunction(\n",
              "            'suggestCharts', [key], {});\n",
              "      } catch (error) {\n",
              "        console.error('Error during call to suggestCharts:', error);\n",
              "      }\n",
              "      quickchartButtonEl.classList.remove('colab-df-spinner');\n",
              "      quickchartButtonEl.classList.add('colab-df-quickchart-complete');\n",
              "    }\n",
              "    (() => {\n",
              "      let quickchartButtonEl =\n",
              "        document.querySelector('#df-f3a251ac-6f87-42e7-89d4-dd2537817234 button');\n",
              "      quickchartButtonEl.style.display =\n",
              "        google.colab.kernel.accessAllowed ? 'block' : 'none';\n",
              "    })();\n",
              "  </script>\n",
              "</div>\n",
              "\n",
              "    </div>\n",
              "  </div>\n"
            ],
            "application/vnd.google.colaboratory.intrinsic+json": {
              "type": "dataframe",
              "variable_name": "loja",
              "summary": "{\n  \"name\": \"loja\",\n  \"rows\": 2359,\n  \"fields\": [\n    {\n      \"column\": \"Produto\",\n      \"properties\": {\n        \"dtype\": \"category\",\n        \"num_unique_values\": 51,\n        \"samples\": [\n          \"Viol\\u00e3o\",\n          \"Bola de basquete\",\n          \"Smartwatch\"\n        ],\n        \"semantic_type\": \"\",\n        \"description\": \"\"\n      }\n    },\n    {\n      \"column\": \"Categoria do Produto\",\n      \"properties\": {\n        \"dtype\": \"category\",\n        \"num_unique_values\": 8,\n        \"samples\": [\n          \"moveis\",\n          \"esporte e lazer\",\n          \"eletronicos\"\n        ],\n        \"semantic_type\": \"\",\n        \"description\": \"\"\n      }\n    },\n    {\n      \"column\": \"Pre\\u00e7o\",\n      \"properties\": {\n        \"dtype\": \"number\",\n        \"std\": 819.5827782539145,\n        \"min\": 10.07,\n        \"max\": 3969.38,\n        \"num_unique_values\": 2315,\n        \"samples\": [\n          446.11,\n          107.31,\n          65.86\n        ],\n        \"semantic_type\": \"\",\n        \"description\": \"\"\n      }\n    },\n    {\n      \"column\": \"Frete\",\n      \"properties\": {\n        \"dtype\": \"number\",\n        \"std\": 43.814183327408166,\n        \"min\": 0.0,\n        \"max\": 214.3770604781,\n        \"num_unique_values\": 2149,\n        \"samples\": [\n          83.815279607,\n          16.069664669,\n          14.0344876928\n        ],\n        \"semantic_type\": \"\",\n        \"description\": \"\"\n      }\n    },\n    {\n      \"column\": \"Data da Compra\",\n      \"properties\": {\n        \"dtype\": \"object\",\n        \"num_unique_values\": 1018,\n        \"samples\": [\n          \"15/09/2022\",\n          \"03/06/2020\",\n          \"06/11/2021\"\n        ],\n        \"semantic_type\": \"\",\n        \"description\": \"\"\n      }\n    },\n    {\n      \"column\": \"Vendedor\",\n      \"properties\": {\n        \"dtype\": \"category\",\n        \"num_unique_values\": 14,\n        \"samples\": [\n          \"Juliana Costa\",\n          \"Mariana Ferreira\",\n          \"Pedro Gomes\"\n        ],\n        \"semantic_type\": \"\",\n        \"description\": \"\"\n      }\n    },\n    {\n      \"column\": \"Local da compra\",\n      \"properties\": {\n        \"dtype\": \"category\",\n        \"num_unique_values\": 26,\n        \"samples\": [\n          \"TO\",\n          \"RN\",\n          \"SP\"\n        ],\n        \"semantic_type\": \"\",\n        \"description\": \"\"\n      }\n    },\n    {\n      \"column\": \"Avalia\\u00e7\\u00e3o da compra\",\n      \"properties\": {\n        \"dtype\": \"number\",\n        \"std\": 1,\n        \"min\": 1,\n        \"max\": 5,\n        \"num_unique_values\": 5,\n        \"samples\": [\n          1,\n          2,\n          5\n        ],\n        \"semantic_type\": \"\",\n        \"description\": \"\"\n      }\n    },\n    {\n      \"column\": \"Tipo de pagamento\",\n      \"properties\": {\n        \"dtype\": \"category\",\n        \"num_unique_values\": 4,\n        \"samples\": [\n          \"boleto\",\n          \"cartao_debito\",\n          \"cartao_credito\"\n        ],\n        \"semantic_type\": \"\",\n        \"description\": \"\"\n      }\n    },\n    {\n      \"column\": \"Quantidade de parcelas\",\n      \"properties\": {\n        \"dtype\": \"number\",\n        \"std\": 2,\n        \"min\": 1,\n        \"max\": 24,\n        \"num_unique_values\": 15,\n        \"samples\": [\n          7,\n          14,\n          8\n        ],\n        \"semantic_type\": \"\",\n        \"description\": \"\"\n      }\n    },\n    {\n      \"column\": \"lat\",\n      \"properties\": {\n        \"dtype\": \"number\",\n        \"std\": 5.372399916530833,\n        \"min\": -30.17,\n        \"max\": 1.41,\n        \"num_unique_values\": 26,\n        \"samples\": [\n          -9.46,\n          -5.81,\n          -22.19\n        ],\n        \"semantic_type\": \"\",\n        \"description\": \"\"\n      }\n    },\n    {\n      \"column\": \"lon\",\n      \"properties\": {\n        \"dtype\": \"number\",\n        \"std\": 4.183180020544179,\n        \"min\": -70.55,\n        \"max\": -36.59,\n        \"num_unique_values\": 26,\n        \"samples\": [\n          -48.26,\n          -36.59,\n          -48.79\n        ],\n        \"semantic_type\": \"\",\n        \"description\": \"\"\n      }\n    }\n  ]\n}"
            }
          },
          "metadata": {},
          "execution_count": 17
        }
      ],
      "source": [
        "import pandas as pd\n",
        "\n",
        "url = \"https://raw.githubusercontent.com/alura-es-cursos/challenge1-data-science/refs/heads/main/base-de-dados-challenge-1/loja_1.csv\"\n",
        "url2 = \"https://raw.githubusercontent.com/alura-es-cursos/challenge1-data-science/refs/heads/main/base-de-dados-challenge-1/loja_2.csv\"\n",
        "url3 = \"https://raw.githubusercontent.com/alura-es-cursos/challenge1-data-science/refs/heads/main/base-de-dados-challenge-1/loja_3.csv\"\n",
        "url4 = \"https://raw.githubusercontent.com/alura-es-cursos/challenge1-data-science/refs/heads/main/base-de-dados-challenge-1/loja_4.csv\"\n",
        "\n",
        "loja = pd.read_csv(url)\n",
        "loja2 = pd.read_csv(url2)\n",
        "loja3 = pd.read_csv(url3)\n",
        "loja4 = pd.read_csv(url4)\n",
        "\n",
        "loja.head()"
      ]
    },
    {
      "cell_type": "markdown",
      "source": [
        "#1. Análise do faturamento\n"
      ],
      "metadata": {
        "id": "X62IW3KFUIYm"
      }
    },
    {
      "cell_type": "code",
      "source": [
        "Faturamento_loja1 = loja['Preço'].sum()\n",
        "print(Faturamento_loja1)\n"
      ],
      "metadata": {
        "id": "xykobSftV64I",
        "colab": {
          "base_uri": "https://localhost:8080/"
        },
        "outputId": "1e4ff606-f885-4c20-832d-3d3c038e088a"
      },
      "execution_count": 18,
      "outputs": [
        {
          "output_type": "stream",
          "name": "stdout",
          "text": [
            "1534509.12\n"
          ]
        }
      ]
    },
    {
      "cell_type": "code",
      "source": [
        "Faturamento_loja2 = loja2['Preço'].sum()\n",
        "print(Faturamento_loja2)\n",
        ""
      ],
      "metadata": {
        "colab": {
          "base_uri": "https://localhost:8080/"
        },
        "id": "4C1i_cLNj7wR",
        "outputId": "17e88f8d-8243-4d89-8d58-ff538f47914f"
      },
      "execution_count": 19,
      "outputs": [
        {
          "output_type": "stream",
          "name": "stdout",
          "text": [
            "1488459.06\n"
          ]
        }
      ]
    },
    {
      "cell_type": "code",
      "source": [
        "Faturamento_loja3 = loja3['Preço'].sum()\n",
        "print(Faturamento_loja3)"
      ],
      "metadata": {
        "colab": {
          "base_uri": "https://localhost:8080/"
        },
        "id": "NDRySUxrlhW1",
        "outputId": "65c0ce05-cc61-452b-b22d-a3d56efe58c7"
      },
      "execution_count": 20,
      "outputs": [
        {
          "output_type": "stream",
          "name": "stdout",
          "text": [
            "1464025.03\n"
          ]
        }
      ]
    },
    {
      "cell_type": "code",
      "source": [
        "Faturamento_loja4 = loja4['Preço'].sum()\n",
        "print(Faturamento_loja4)"
      ],
      "metadata": {
        "colab": {
          "base_uri": "https://localhost:8080/"
        },
        "id": "mR7wP79Mlslx",
        "outputId": "ea21d4bd-36ff-43ed-952a-baabc7bd63eb"
      },
      "execution_count": 21,
      "outputs": [
        {
          "output_type": "stream",
          "name": "stdout",
          "text": [
            "1384497.58\n"
          ]
        }
      ]
    },
    {
      "cell_type": "code",
      "source": [
        "faturamento_lojas = [Faturamento_loja1, Faturamento_loja2, Faturamento_loja3, Faturamento_loja4]\n",
        "print(faturamento_lojas)\n"
      ],
      "metadata": {
        "colab": {
          "base_uri": "https://localhost:8080/"
        },
        "id": "JDsYYuiEkoSV",
        "outputId": "9121f587-f1d0-4654-faea-c4b1ab011a2c"
      },
      "execution_count": 22,
      "outputs": [
        {
          "output_type": "stream",
          "name": "stdout",
          "text": [
            "[np.float64(1534509.12), np.float64(1488459.06), np.float64(1464025.03), np.float64(1384497.58)]\n"
          ]
        }
      ]
    },
    {
      "cell_type": "code",
      "source": [
        "faturamento_lojas_corrigido = [float(valor) for valor in faturamento_lojas]\n",
        "\n",
        "print(faturamento_lojas_corrigido)"
      ],
      "metadata": {
        "colab": {
          "base_uri": "https://localhost:8080/"
        },
        "id": "8TP1l-MJk7ft",
        "outputId": "4c529bb3-a858-4f75-c6ac-db29a338f378"
      },
      "execution_count": 23,
      "outputs": [
        {
          "output_type": "stream",
          "name": "stdout",
          "text": [
            "[1534509.12, 1488459.06, 1464025.03, 1384497.58]\n"
          ]
        }
      ]
    },
    {
      "cell_type": "code",
      "source": [
        "nomes_lojas = [\"Loja1\",\"loja2\",\"loja3\",\"loja4\"]\n",
        "print(nomes_lojas)\n",
        "\n"
      ],
      "metadata": {
        "id": "KDyr8E71V3m-",
        "colab": {
          "base_uri": "https://localhost:8080/"
        },
        "outputId": "7f84644e-621a-4c51-c297-f35b7b1b5c49"
      },
      "execution_count": 24,
      "outputs": [
        {
          "output_type": "stream",
          "name": "stdout",
          "text": [
            "['Loja1', 'loja2', 'loja3', 'loja4']\n"
          ]
        }
      ]
    },
    {
      "cell_type": "code",
      "source": [
        "Lojas_faturamento = list(zip(nomes_lojas, faturamento_lojas_corrigido))\n",
        "print(Lojas_faturamento)"
      ],
      "metadata": {
        "colab": {
          "base_uri": "https://localhost:8080/"
        },
        "id": "lArbKVIvlfma",
        "outputId": "cefbd624-f604-45ab-dd42-5b7ae5e48fdc"
      },
      "execution_count": 25,
      "outputs": [
        {
          "output_type": "stream",
          "name": "stdout",
          "text": [
            "[('Loja1', 1534509.12), ('loja2', 1488459.06), ('loja3', 1464025.03), ('loja4', 1384497.58)]\n"
          ]
        }
      ]
    },
    {
      "cell_type": "markdown",
      "source": [
        "# 2. Vendas por Categoria\n"
      ],
      "metadata": {
        "id": "2V_vcAPzWZmR"
      }
    },
    {
      "cell_type": "markdown",
      "source": [],
      "metadata": {
        "id": "eqiEZDtDsiTm"
      }
    },
    {
      "cell_type": "code",
      "source": [
        "quantidade_por_categoria_loja1 = loja['Produto'].value_counts()\n",
        "print(quantidade_por_categoria_loja1)"
      ],
      "metadata": {
        "id": "A34YupIuYhfF",
        "colab": {
          "base_uri": "https://localhost:8080/"
        },
        "outputId": "74c734b5-5899-4360-e083-caa14580732f"
      },
      "execution_count": 26,
      "outputs": [
        {
          "output_type": "stream",
          "name": "stdout",
          "text": [
            "Produto\n",
            "Micro-ondas                    60\n",
            "TV Led UHD 4K                  60\n",
            "Guarda roupas                  60\n",
            "Secadora de roupas             58\n",
            "Cômoda                         56\n",
            "Blocos de montar               56\n",
            "Bola de basquete               55\n",
            "Bicicleta                      54\n",
            "Copo térmico                   54\n",
            "Geladeira                      54\n",
            "Impressora                     54\n",
            "Bateria                        53\n",
            "Faqueiro                       52\n",
            "Carrinho controle remoto       52\n",
            "Modelagem preditiva            51\n",
            "Fone de ouvido                 50\n",
            "Xadrez de madeira              49\n",
            "Celular Plus X42               49\n",
            "Lava louças                    48\n",
            "Lavadora de roupas             47\n",
            "Guitarra                       47\n",
            "Violão                         46\n",
            "Sofá retrátil                  46\n",
            "Cadeira de escritório          46\n",
            "Fogão                          45\n",
            "Cama box                       44\n",
            "Kit banquetas                  44\n",
            "Smart TV                       44\n",
            "Cama king                      44\n",
            "Cubo mágico 8x8                44\n",
            "Mesa de centro                 44\n",
            "Jogo de panelas                43\n",
            "Smartwatch                     43\n",
            "Jogo de tabuleiro              43\n",
            "Bola de vôlei                  42\n",
            "Dashboards com Power BI        42\n",
            "Tablet ABXY                    42\n",
            "Poltrona                       41\n",
            "Iniciando em programação       41\n",
            "Jogo de copos                  41\n",
            "Assistente virtual             40\n",
            "Boneca bebê                    40\n",
            "Mesa de jantar                 40\n",
            "Dinossauro Rex                 40\n",
            "Corda de pular                 40\n",
            "Mochila                        39\n",
            "Ciência de dados com python    39\n",
            "Pandeiro                       36\n",
            "Panela de pressão              35\n",
            "Headset                        33\n",
            "Celular ABXY                   33\n",
            "Name: count, dtype: int64\n"
          ]
        }
      ]
    },
    {
      "cell_type": "code",
      "source": [
        "quantidade_por_categoria_loja1 = loja.groupby('Categoria do Produto')['Produto'].value_counts()\n",
        "print(quantidade_por_categoria_loja1)"
      ],
      "metadata": {
        "colab": {
          "base_uri": "https://localhost:8080/"
        },
        "id": "Cz3oVEIeCAjy",
        "outputId": "e78ed16c-a561-46d4-8aa3-6a3528b3e195"
      },
      "execution_count": 27,
      "outputs": [
        {
          "output_type": "stream",
          "name": "stdout",
          "text": [
            "Categoria do Produto   Produto                    \n",
            "brinquedos             Blocos de montar               56\n",
            "                       Carrinho controle remoto       52\n",
            "                       Xadrez de madeira              49\n",
            "                       Cubo mágico 8x8                44\n",
            "                       Jogo de tabuleiro              43\n",
            "                       Boneca bebê                    40\n",
            "                       Dinossauro Rex                 40\n",
            "eletrodomesticos       Micro-ondas                    60\n",
            "                       Secadora de roupas             58\n",
            "                       Geladeira                      54\n",
            "                       Lava louças                    48\n",
            "                       Lavadora de roupas             47\n",
            "                       Fogão                          45\n",
            "eletronicos            TV Led UHD 4K                  60\n",
            "                       Impressora                     54\n",
            "                       Fone de ouvido                 50\n",
            "                       Celular Plus X42               49\n",
            "                       Smart TV                       44\n",
            "                       Smartwatch                     43\n",
            "                       Tablet ABXY                    42\n",
            "                       Assistente virtual             40\n",
            "                       Celular ABXY                   33\n",
            "                       Headset                        33\n",
            "esporte e lazer        Bola de basquete               55\n",
            "                       Bicicleta                      54\n",
            "                       Copo térmico                   54\n",
            "                       Bola de vôlei                  42\n",
            "                       Corda de pular                 40\n",
            "                       Mochila                        39\n",
            "instrumentos musicais  Bateria                        53\n",
            "                       Guitarra                       47\n",
            "                       Violão                         46\n",
            "                       Pandeiro                       36\n",
            "livros                 Modelagem preditiva            51\n",
            "                       Dashboards com Power BI        42\n",
            "                       Iniciando em programação       41\n",
            "                       Ciência de dados com python    39\n",
            "moveis                 Guarda roupas                  60\n",
            "                       Cômoda                         56\n",
            "                       Cadeira de escritório          46\n",
            "                       Sofá retrátil                  46\n",
            "                       Cama box                       44\n",
            "                       Cama king                      44\n",
            "                       Kit banquetas                  44\n",
            "                       Mesa de centro                 44\n",
            "                       Poltrona                       41\n",
            "                       Mesa de jantar                 40\n",
            "utilidades domesticas  Faqueiro                       52\n",
            "                       Jogo de panelas                43\n",
            "                       Jogo de copos                  41\n",
            "                       Panela de pressão              35\n",
            "Name: count, dtype: int64\n"
          ]
        }
      ]
    },
    {
      "cell_type": "code",
      "source": [
        "soma_por_categoria_loja1 = loja.groupby('Categoria do Produto')['Produto'].count()\n",
        "print(soma_por_categoria_loja1)"
      ],
      "metadata": {
        "colab": {
          "base_uri": "https://localhost:8080/"
        },
        "id": "O1Z05DoVx8uf",
        "outputId": "5672b6ee-cc31-447b-ed6f-33d5de65e848"
      },
      "execution_count": 74,
      "outputs": [
        {
          "output_type": "stream",
          "name": "stdout",
          "text": [
            "Categoria do Produto\n",
            "brinquedos               324\n",
            "eletrodomesticos         312\n",
            "eletronicos              448\n",
            "esporte e lazer          284\n",
            "instrumentos musicais    182\n",
            "livros                   173\n",
            "moveis                   465\n",
            "utilidades domesticas    171\n",
            "Name: Produto, dtype: int64\n"
          ]
        }
      ]
    },
    {
      "cell_type": "code",
      "source": [
        "quantidade_por_categoria_loja2 = loja2['Produto'].value_counts()\n",
        "print(quantidade_por_categoria_loja2)"
      ],
      "metadata": {
        "id": "yZR6cOjXYSk1",
        "colab": {
          "base_uri": "https://localhost:8080/"
        },
        "outputId": "a227e313-8949-4fc1-ff39-ebfda45e83cd"
      },
      "execution_count": 28,
      "outputs": [
        {
          "output_type": "stream",
          "name": "stdout",
          "text": [
            "Produto\n",
            "Iniciando em programação       65\n",
            "Micro-ondas                    62\n",
            "Bateria                        61\n",
            "Violão                         58\n",
            "Pandeiro                       58\n",
            "Secadora de roupas             57\n",
            "Celular Plus X42               55\n",
            "Blocos de montar               54\n",
            "Guarda roupas                  54\n",
            "Jogo de panelas                52\n",
            "Corda de pular                 50\n",
            "Lavadora de roupas             49\n",
            "Cadeira de escritório          49\n",
            "Geladeira                      49\n",
            "Boneca bebê                    48\n",
            "Carrinho controle remoto       47\n",
            "Guitarra                       47\n",
            "Cama box                       47\n",
            "Copo térmico                   47\n",
            "Modelagem preditiva            46\n",
            "Bola de vôlei                  46\n",
            "Jogo de copos                  46\n",
            "Lava louças                    46\n",
            "Kit banquetas                  45\n",
            "Cama king                      45\n",
            "Bicicleta                      45\n",
            "Mochila                        45\n",
            "Cubo mágico 8x8                45\n",
            "Xadrez de madeira              45\n",
            "Mesa de centro                 45\n",
            "TV Led UHD 4K                  45\n",
            "Tablet ABXY                    44\n",
            "Smartwatch                     44\n",
            "Cômoda                         44\n",
            "Panela de pressão              44\n",
            "Headset                        44\n",
            "Sofá retrátil                  44\n",
            "Dashboards com Power BI        43\n",
            "Ciência de dados com python    43\n",
            "Bola de basquete               42\n",
            "Fogão                          42\n",
            "Dinossauro Rex                 42\n",
            "Celular ABXY                   41\n",
            "Smart TV                       40\n",
            "Faqueiro                       39\n",
            "Assistente virtual             38\n",
            "Fone de ouvido                 37\n",
            "Poltrona                       35\n",
            "Mesa de jantar                 34\n",
            "Impressora                     34\n",
            "Jogo de tabuleiro              32\n",
            "Name: count, dtype: int64\n"
          ]
        }
      ]
    },
    {
      "cell_type": "code",
      "source": [
        "quantidade_por_categoria_loja2 = loja2.groupby('Categoria do Produto')['Produto'].value_counts()\n",
        "print(quantidade_por_categoria_loja2)"
      ],
      "metadata": {
        "colab": {
          "base_uri": "https://localhost:8080/"
        },
        "id": "7aRitKMCDMsd",
        "outputId": "1c9294f3-c9a0-469f-e14d-d3ec17612be9"
      },
      "execution_count": 29,
      "outputs": [
        {
          "output_type": "stream",
          "name": "stdout",
          "text": [
            "Categoria do Produto   Produto                    \n",
            "brinquedos             Blocos de montar               54\n",
            "                       Boneca bebê                    48\n",
            "                       Carrinho controle remoto       47\n",
            "                       Cubo mágico 8x8                45\n",
            "                       Xadrez de madeira              45\n",
            "                       Dinossauro Rex                 42\n",
            "                       Jogo de tabuleiro              32\n",
            "eletrodomesticos       Micro-ondas                    62\n",
            "                       Secadora de roupas             57\n",
            "                       Geladeira                      49\n",
            "                       Lavadora de roupas             49\n",
            "                       Lava louças                    46\n",
            "                       Fogão                          42\n",
            "eletronicos            Celular Plus X42               55\n",
            "                       TV Led UHD 4K                  45\n",
            "                       Headset                        44\n",
            "                       Smartwatch                     44\n",
            "                       Tablet ABXY                    44\n",
            "                       Celular ABXY                   41\n",
            "                       Smart TV                       40\n",
            "                       Assistente virtual             38\n",
            "                       Fone de ouvido                 37\n",
            "                       Impressora                     34\n",
            "esporte e lazer        Corda de pular                 50\n",
            "                       Copo térmico                   47\n",
            "                       Bola de vôlei                  46\n",
            "                       Bicicleta                      45\n",
            "                       Mochila                        45\n",
            "                       Bola de basquete               42\n",
            "instrumentos musicais  Bateria                        61\n",
            "                       Pandeiro                       58\n",
            "                       Violão                         58\n",
            "                       Guitarra                       47\n",
            "livros                 Iniciando em programação       65\n",
            "                       Modelagem preditiva            46\n",
            "                       Ciência de dados com python    43\n",
            "                       Dashboards com Power BI        43\n",
            "moveis                 Guarda roupas                  54\n",
            "                       Cadeira de escritório          49\n",
            "                       Cama box                       47\n",
            "                       Cama king                      45\n",
            "                       Kit banquetas                  45\n",
            "                       Mesa de centro                 45\n",
            "                       Cômoda                         44\n",
            "                       Sofá retrátil                  44\n",
            "                       Poltrona                       35\n",
            "                       Mesa de jantar                 34\n",
            "utilidades domesticas  Jogo de panelas                52\n",
            "                       Jogo de copos                  46\n",
            "                       Panela de pressão              44\n",
            "                       Faqueiro                       39\n",
            "Name: count, dtype: int64\n"
          ]
        }
      ]
    },
    {
      "cell_type": "code",
      "source": [
        "soma_por_categoria_loja2 = loja2.groupby('Categoria do Produto')['Produto'].count()\n",
        "print(soma_por_categoria_loja2)"
      ],
      "metadata": {
        "colab": {
          "base_uri": "https://localhost:8080/"
        },
        "id": "taZH8MUQySQx",
        "outputId": "f2bf724c-5a7d-49aa-ae81-7319bdf1e004"
      },
      "execution_count": 76,
      "outputs": [
        {
          "output_type": "stream",
          "name": "stdout",
          "text": [
            "Categoria do Produto\n",
            "brinquedos               313\n",
            "eletrodomesticos         305\n",
            "eletronicos              422\n",
            "esporte e lazer          275\n",
            "instrumentos musicais    224\n",
            "livros                   197\n",
            "moveis                   442\n",
            "utilidades domesticas    181\n",
            "Name: Produto, dtype: int64\n"
          ]
        }
      ]
    },
    {
      "cell_type": "code",
      "source": [
        "quantidade_por_categoria_loja3 = loja3['Produto'].value_counts()\n",
        "print(quantidade_por_categoria_loja3)"
      ],
      "metadata": {
        "colab": {
          "base_uri": "https://localhost:8080/"
        },
        "id": "6FzLMx6XusD9",
        "outputId": "63f552c3-88a3-4957-bf9f-22fb3467df6d"
      },
      "execution_count": 30,
      "outputs": [
        {
          "output_type": "stream",
          "name": "stdout",
          "text": [
            "Produto\n",
            "Kit banquetas                  57\n",
            "Mesa de jantar                 56\n",
            "Cama king                      56\n",
            "Jogo de panelas                55\n",
            "Cômoda                         55\n",
            "Smart TV                       54\n",
            "Fogão                          53\n",
            "Corda de pular                 53\n",
            "Modelagem preditiva            53\n",
            "Carrinho controle remoto       52\n",
            "Lava louças                    52\n",
            "Bicicleta                      52\n",
            "Jogo de tabuleiro              52\n",
            "Pandeiro                       51\n",
            "Impressora                     50\n",
            "Geladeira                      50\n",
            "Bola de basquete               50\n",
            "Guarda roupas                  49\n",
            "Bola de vôlei                  48\n",
            "Tablet ABXY                    48\n",
            "Poltrona                       47\n",
            "Violão                         47\n",
            "Panela de pressão              47\n",
            "Xadrez de madeira              47\n",
            "Ciência de dados com python    46\n",
            "Celular Plus X42               46\n",
            "Dinossauro Rex                 46\n",
            "Cadeira de escritório          46\n",
            "Smartwatch                     46\n",
            "Cama box                       46\n",
            "Iniciando em programação       46\n",
            "Secadora de roupas             45\n",
            "Sofá retrátil                  45\n",
            "Celular ABXY                   44\n",
            "Cubo mágico 8x8                44\n",
            "Fone de ouvido                 43\n",
            "TV Led UHD 4K                  42\n",
            "Mesa de centro                 42\n",
            "Lavadora de roupas             42\n",
            "Bateria                        41\n",
            "Dashboards com Power BI        40\n",
            "Faqueiro                       39\n",
            "Boneca bebê                    39\n",
            "Headset                        39\n",
            "Assistente virtual             39\n",
            "Copo térmico                   38\n",
            "Guitarra                       38\n",
            "Jogo de copos                  36\n",
            "Mochila                        36\n",
            "Micro-ondas                    36\n",
            "Blocos de montar               35\n",
            "Name: count, dtype: int64\n"
          ]
        }
      ]
    },
    {
      "cell_type": "code",
      "source": [
        "quantidade_por_categoria_loja3 = loja3.groupby('Categoria do Produto')['Produto'].value_counts()\n",
        "print(quantidade_por_categoria_loja3)"
      ],
      "metadata": {
        "colab": {
          "base_uri": "https://localhost:8080/"
        },
        "id": "uMbB-FeLDTnB",
        "outputId": "b9c1e0b1-4f5d-4c6b-8c23-a132fb7f13f9"
      },
      "execution_count": 31,
      "outputs": [
        {
          "output_type": "stream",
          "name": "stdout",
          "text": [
            "Categoria do Produto   Produto                    \n",
            "brinquedos             Carrinho controle remoto       52\n",
            "                       Jogo de tabuleiro              52\n",
            "                       Xadrez de madeira              47\n",
            "                       Dinossauro Rex                 46\n",
            "                       Cubo mágico 8x8                44\n",
            "                       Boneca bebê                    39\n",
            "                       Blocos de montar               35\n",
            "eletrodomesticos       Fogão                          53\n",
            "                       Lava louças                    52\n",
            "                       Geladeira                      50\n",
            "                       Secadora de roupas             45\n",
            "                       Lavadora de roupas             42\n",
            "                       Micro-ondas                    36\n",
            "eletronicos            Smart TV                       54\n",
            "                       Impressora                     50\n",
            "                       Tablet ABXY                    48\n",
            "                       Celular Plus X42               46\n",
            "                       Smartwatch                     46\n",
            "                       Celular ABXY                   44\n",
            "                       Fone de ouvido                 43\n",
            "                       TV Led UHD 4K                  42\n",
            "                       Assistente virtual             39\n",
            "                       Headset                        39\n",
            "esporte e lazer        Corda de pular                 53\n",
            "                       Bicicleta                      52\n",
            "                       Bola de basquete               50\n",
            "                       Bola de vôlei                  48\n",
            "                       Copo térmico                   38\n",
            "                       Mochila                        36\n",
            "instrumentos musicais  Pandeiro                       51\n",
            "                       Violão                         47\n",
            "                       Bateria                        41\n",
            "                       Guitarra                       38\n",
            "livros                 Modelagem preditiva            53\n",
            "                       Ciência de dados com python    46\n",
            "                       Iniciando em programação       46\n",
            "                       Dashboards com Power BI        40\n",
            "moveis                 Kit banquetas                  57\n",
            "                       Cama king                      56\n",
            "                       Mesa de jantar                 56\n",
            "                       Cômoda                         55\n",
            "                       Guarda roupas                  49\n",
            "                       Poltrona                       47\n",
            "                       Cadeira de escritório          46\n",
            "                       Cama box                       46\n",
            "                       Sofá retrátil                  45\n",
            "                       Mesa de centro                 42\n",
            "utilidades domesticas  Jogo de panelas                55\n",
            "                       Panela de pressão              47\n",
            "                       Faqueiro                       39\n",
            "                       Jogo de copos                  36\n",
            "Name: count, dtype: int64\n"
          ]
        }
      ]
    },
    {
      "cell_type": "code",
      "source": [
        "soma_por_categoria_loja3 = loja3.groupby('Categoria do Produto')['Produto'].count()\n",
        "print(soma_por_categoria_loja3)"
      ],
      "metadata": {
        "colab": {
          "base_uri": "https://localhost:8080/"
        },
        "id": "P2h12TMOyhpx",
        "outputId": "1d474ab6-7ee6-438b-9c1a-b64bbfbd1d7f"
      },
      "execution_count": 77,
      "outputs": [
        {
          "output_type": "stream",
          "name": "stdout",
          "text": [
            "Categoria do Produto\n",
            "brinquedos               315\n",
            "eletrodomesticos         278\n",
            "eletronicos              451\n",
            "esporte e lazer          277\n",
            "instrumentos musicais    177\n",
            "livros                   185\n",
            "moveis                   499\n",
            "utilidades domesticas    177\n",
            "Name: Produto, dtype: int64\n"
          ]
        }
      ]
    },
    {
      "cell_type": "code",
      "source": [
        "quantidade_por_categoria_loja4 = loja4['Produto'].value_counts()\n",
        "print(quantidade_por_categoria_loja4)"
      ],
      "metadata": {
        "colab": {
          "base_uri": "https://localhost:8080/"
        },
        "id": "LsJPzD_juwl3",
        "outputId": "ea0e6a35-c16b-46f0-8cd4-5aea8dc871e0"
      },
      "execution_count": 32,
      "outputs": [
        {
          "output_type": "stream",
          "name": "stdout",
          "text": [
            "Produto\n",
            "Cama box                       62\n",
            "Faqueiro                       59\n",
            "Dashboards com Power BI        56\n",
            "Cama king                      56\n",
            "Carrinho controle remoto       55\n",
            "Mesa de jantar                 55\n",
            "Cômoda                         55\n",
            "Smart TV                       54\n",
            "Blocos de montar               54\n",
            "Pandeiro                       52\n",
            "Impressora                     50\n",
            "Modelagem preditiva            50\n",
            "Assistente virtual             50\n",
            "Jogo de panelas                50\n",
            "Bola de basquete               50\n",
            "Copo térmico                   48\n",
            "Celular Plus X42               48\n",
            "Boneca bebê                    48\n",
            "Bateria                        48\n",
            "Bola de vôlei                  48\n",
            "Jogo de tabuleiro              48\n",
            "Micro-ondas                    48\n",
            "Fogão                          47\n",
            "Cubo mágico 8x8                47\n",
            "Sofá retrátil                  47\n",
            "Dinossauro Rex                 47\n",
            "Panela de pressão              46\n",
            "Jogo de copos                  46\n",
            "Tablet ABXY                    45\n",
            "Poltrona                       45\n",
            "Bicicleta                      45\n",
            "Mesa de centro                 44\n",
            "Fone de ouvido                 44\n",
            "Lava louças                    43\n",
            "Corda de pular                 43\n",
            "Iniciando em programação       43\n",
            "Mochila                        43\n",
            "Headset                        42\n",
            "Kit banquetas                  42\n",
            "TV Led UHD 4K                  40\n",
            "Secadora de roupas             40\n",
            "Cadeira de escritório          40\n",
            "Celular ABXY                   39\n",
            "Xadrez de madeira              39\n",
            "Smartwatch                     39\n",
            "Lavadora de roupas             38\n",
            "Geladeira                      38\n",
            "Ciência de dados com python    38\n",
            "Violão                         37\n",
            "Guarda roupas                  34\n",
            "Guitarra                       33\n",
            "Name: count, dtype: int64\n"
          ]
        }
      ]
    },
    {
      "cell_type": "code",
      "source": [
        "quantidade_por_categoria_loja4 = loja4.groupby('Categoria do Produto')['Produto'].value_counts()\n",
        "print(quantidade_por_categoria_loja4)"
      ],
      "metadata": {
        "colab": {
          "base_uri": "https://localhost:8080/"
        },
        "id": "OiKynnOeDXf6",
        "outputId": "34efdee3-2223-4710-951c-ea2ed3e51819"
      },
      "execution_count": 33,
      "outputs": [
        {
          "output_type": "stream",
          "name": "stdout",
          "text": [
            "Categoria do Produto   Produto                    \n",
            "brinquedos             Carrinho controle remoto       55\n",
            "                       Blocos de montar               54\n",
            "                       Boneca bebê                    48\n",
            "                       Jogo de tabuleiro              48\n",
            "                       Cubo mágico 8x8                47\n",
            "                       Dinossauro Rex                 47\n",
            "                       Xadrez de madeira              39\n",
            "eletrodomesticos       Micro-ondas                    48\n",
            "                       Fogão                          47\n",
            "                       Lava louças                    43\n",
            "                       Secadora de roupas             40\n",
            "                       Geladeira                      38\n",
            "                       Lavadora de roupas             38\n",
            "eletronicos            Smart TV                       54\n",
            "                       Assistente virtual             50\n",
            "                       Impressora                     50\n",
            "                       Celular Plus X42               48\n",
            "                       Tablet ABXY                    45\n",
            "                       Fone de ouvido                 44\n",
            "                       Headset                        42\n",
            "                       TV Led UHD 4K                  40\n",
            "                       Celular ABXY                   39\n",
            "                       Smartwatch                     39\n",
            "esporte e lazer        Bola de basquete               50\n",
            "                       Bola de vôlei                  48\n",
            "                       Copo térmico                   48\n",
            "                       Bicicleta                      45\n",
            "                       Corda de pular                 43\n",
            "                       Mochila                        43\n",
            "instrumentos musicais  Pandeiro                       52\n",
            "                       Bateria                        48\n",
            "                       Violão                         37\n",
            "                       Guitarra                       33\n",
            "livros                 Dashboards com Power BI        56\n",
            "                       Modelagem preditiva            50\n",
            "                       Iniciando em programação       43\n",
            "                       Ciência de dados com python    38\n",
            "moveis                 Cama box                       62\n",
            "                       Cama king                      56\n",
            "                       Cômoda                         55\n",
            "                       Mesa de jantar                 55\n",
            "                       Sofá retrátil                  47\n",
            "                       Poltrona                       45\n",
            "                       Mesa de centro                 44\n",
            "                       Kit banquetas                  42\n",
            "                       Cadeira de escritório          40\n",
            "                       Guarda roupas                  34\n",
            "utilidades domesticas  Faqueiro                       59\n",
            "                       Jogo de panelas                50\n",
            "                       Jogo de copos                  46\n",
            "                       Panela de pressão              46\n",
            "Name: count, dtype: int64\n"
          ]
        }
      ]
    },
    {
      "cell_type": "code",
      "source": [
        "soma_por_categoria_loja4 = loja4.groupby('Categoria do Produto')['Produto'].count()\n",
        "print(soma_por_categoria_loja4)"
      ],
      "metadata": {
        "colab": {
          "base_uri": "https://localhost:8080/"
        },
        "id": "S-e65xLeymyu",
        "outputId": "8430fa74-29eb-43c4-c1c2-f1ea6c1bc30a"
      },
      "execution_count": 78,
      "outputs": [
        {
          "output_type": "stream",
          "name": "stdout",
          "text": [
            "Categoria do Produto\n",
            "brinquedos               338\n",
            "eletrodomesticos         254\n",
            "eletronicos              451\n",
            "esporte e lazer          277\n",
            "instrumentos musicais    170\n",
            "livros                   187\n",
            "moveis                   480\n",
            "utilidades domesticas    201\n",
            "Name: Produto, dtype: int64\n"
          ]
        }
      ]
    },
    {
      "cell_type": "code",
      "source": [
        "most_popular_product_lj1 = quantidade_por_categoria_loja1.index[0]\n",
        "print(\"A categoria mais popular é:\", most_popular_product_lj1)\n"
      ],
      "metadata": {
        "colab": {
          "base_uri": "https://localhost:8080/"
        },
        "id": "pD9EGSNPvJwn",
        "outputId": "da9b32f5-9bb9-4f87-9f6e-44da797a9497"
      },
      "execution_count": 34,
      "outputs": [
        {
          "output_type": "stream",
          "name": "stdout",
          "text": [
            "A categoria mais popular é: ('brinquedos', 'Blocos de montar')\n"
          ]
        }
      ]
    },
    {
      "cell_type": "code",
      "source": [
        "most_popular_product_lj2 = quantidade_por_categoria_loja2.index[0]\n",
        "print(\"A categoria mais popular é:\", most_popular_product_lj2)"
      ],
      "metadata": {
        "colab": {
          "base_uri": "https://localhost:8080/"
        },
        "id": "McVBi--VvUKC",
        "outputId": "b3fb0590-6df5-439e-947a-1ec1b64444ba"
      },
      "execution_count": 35,
      "outputs": [
        {
          "output_type": "stream",
          "name": "stdout",
          "text": [
            "A categoria mais popular é: ('brinquedos', 'Blocos de montar')\n"
          ]
        }
      ]
    },
    {
      "cell_type": "code",
      "source": [
        "most_popular_product_lj3 = quantidade_por_categoria_loja3.index[0]\n",
        "print(\"A categoria mais popular é:\", most_popular_product_lj3)"
      ],
      "metadata": {
        "colab": {
          "base_uri": "https://localhost:8080/"
        },
        "id": "yXAsRFqFvVMj",
        "outputId": "86ec47d6-bb7c-40a1-a040-7c1c92e5347c"
      },
      "execution_count": 36,
      "outputs": [
        {
          "output_type": "stream",
          "name": "stdout",
          "text": [
            "A categoria mais popular é: ('brinquedos', 'Carrinho controle remoto')\n"
          ]
        }
      ]
    },
    {
      "cell_type": "code",
      "source": [
        "most_popular_product_lj4 = quantidade_por_categoria_loja4.index[0]\n",
        "print(\"A categoria mais popular é:\", most_popular_product_lj4)"
      ],
      "metadata": {
        "colab": {
          "base_uri": "https://localhost:8080/"
        },
        "id": "OykTT7OiwXnQ",
        "outputId": "50e6b50e-4062-48c1-9013-ae2c35588ece"
      },
      "execution_count": 37,
      "outputs": [
        {
          "output_type": "stream",
          "name": "stdout",
          "text": [
            "A categoria mais popular é: ('brinquedos', 'Carrinho controle remoto')\n"
          ]
        }
      ]
    },
    {
      "cell_type": "markdown",
      "source": [
        "# 3. Média de Avaliação das Lojas"
      ],
      "metadata": {
        "id": "Rq6tU_xSY3jk"
      }
    },
    {
      "cell_type": "code",
      "source": [
        "import pandas as pd\n"
      ],
      "metadata": {
        "id": "UK1F7qDGyLF1"
      },
      "execution_count": 38,
      "outputs": []
    },
    {
      "cell_type": "code",
      "source": [
        "media_avaliacao_loja1 = loja['Avaliação da compra'].mean()\n",
        "media_avaliacao_loja2 = loja2['Avaliação da compra'].mean()\n",
        "media_avaliacao_loja3 = loja3['Avaliação da compra'].mean()\n",
        "media_avaliacao_loja4 = loja4['Avaliação da compra'].mean()\n",
        "print(media_avaliacao_loja1)\n",
        "print(media_avaliacao_loja2)\n",
        "print(media_avaliacao_loja3)\n",
        "print(media_avaliacao_loja4)"
      ],
      "metadata": {
        "id": "bh3jjjJwY5MU",
        "colab": {
          "base_uri": "https://localhost:8080/"
        },
        "outputId": "ab9aa134-a003-44fc-ce63-15a4a6dcdd2a"
      },
      "execution_count": 39,
      "outputs": [
        {
          "output_type": "stream",
          "name": "stdout",
          "text": [
            "3.976685036032217\n",
            "4.037303942348453\n",
            "4.048325561678677\n",
            "3.9957591178965224\n"
          ]
        }
      ]
    },
    {
      "cell_type": "code",
      "source": [
        "média_lojas = [media_avaliacao_loja1, media_avaliacao_loja2, media_avaliacao_loja3, media_avaliacao_loja4]\n",
        "print(média_lojas)"
      ],
      "metadata": {
        "colab": {
          "base_uri": "https://localhost:8080/"
        },
        "id": "Y3HzkINBzsBw",
        "outputId": "90beb7dd-9d16-4555-c2aa-e549dafa4342"
      },
      "execution_count": 40,
      "outputs": [
        {
          "output_type": "stream",
          "name": "stdout",
          "text": [
            "[np.float64(3.976685036032217), np.float64(4.037303942348453), np.float64(4.048325561678677), np.float64(3.9957591178965224)]\n"
          ]
        }
      ]
    },
    {
      "cell_type": "code",
      "source": [
        "média_lojas_corrigido = [float(valor) for valor in média_lojas]\n",
        "print(média_lojas_corrigido)"
      ],
      "metadata": {
        "colab": {
          "base_uri": "https://localhost:8080/"
        },
        "id": "78znRKF201tr",
        "outputId": "d4248eff-960e-4492-ca26-c61d77104211"
      },
      "execution_count": 41,
      "outputs": [
        {
          "output_type": "stream",
          "name": "stdout",
          "text": [
            "[3.976685036032217, 4.037303942348453, 4.048325561678677, 3.9957591178965224]\n"
          ]
        }
      ]
    },
    {
      "cell_type": "code",
      "source": [
        "Medias_lojas = list(zip(nomes_lojas, média_lojas_corrigido))\n",
        "print(Medias_lojas)"
      ],
      "metadata": {
        "colab": {
          "base_uri": "https://localhost:8080/"
        },
        "id": "JssD9JnQ0bKY",
        "outputId": "18799410-a2fb-4368-dd5a-7981af6c1e86"
      },
      "execution_count": 42,
      "outputs": [
        {
          "output_type": "stream",
          "name": "stdout",
          "text": [
            "[('Loja1', 3.976685036032217), ('loja2', 4.037303942348453), ('loja3', 4.048325561678677), ('loja4', 3.9957591178965224)]\n"
          ]
        }
      ]
    },
    {
      "cell_type": "markdown",
      "source": [
        "# 4. Produtos Mais e Menos Vendidos"
      ],
      "metadata": {
        "id": "DmNp1KPBZCm-"
      }
    },
    {
      "cell_type": "code",
      "source": [
        "import pandas as pd"
      ],
      "metadata": {
        "id": "qoyjqijQZHfF"
      },
      "execution_count": 43,
      "outputs": []
    },
    {
      "cell_type": "code",
      "source": [
        "product_counts_loja1 = loja['Produto'].value_counts()\n",
        "mais_vendido = product_counts_loja1.index[0]\n",
        "menos_vendido = product_counts_loja1.index[-1]\n",
        "print(\"O produto mais vendido na loja 1 é:\", mais_vendido)\n",
        "print(\"O produto menos vendido na loja 1 é:\", menos_vendido)\n"
      ],
      "metadata": {
        "id": "0Sw3sd4IZIGW",
        "colab": {
          "base_uri": "https://localhost:8080/"
        },
        "outputId": "98978c06-22db-4217-83ac-62b615a8089e"
      },
      "execution_count": 44,
      "outputs": [
        {
          "output_type": "stream",
          "name": "stdout",
          "text": [
            "O produto mais vendido na loja 1 é: Micro-ondas\n",
            "O produto menos vendido na loja 1 é: Celular ABXY\n"
          ]
        }
      ]
    },
    {
      "cell_type": "code",
      "source": [
        "product_counts_loja2 = loja2['Produto'].value_counts()\n",
        "mais_vendido = product_counts_loja2.index[0]\n",
        "menos_vendido = product_counts_loja2.index[-1]\n",
        "print(\"O produto mais vendido na loja 2 é:\", mais_vendido)\n",
        "print(\"O produto menos vendido na loja 2 é:\", menos_vendido)\n"
      ],
      "metadata": {
        "colab": {
          "base_uri": "https://localhost:8080/"
        },
        "id": "SQA9IgOD2AQw",
        "outputId": "419751f9-e35f-40c1-abf7-0c13efc02b6e"
      },
      "execution_count": 45,
      "outputs": [
        {
          "output_type": "stream",
          "name": "stdout",
          "text": [
            "O produto mais vendido na loja 2 é: Iniciando em programação\n",
            "O produto menos vendido na loja 2 é: Jogo de tabuleiro\n"
          ]
        }
      ]
    },
    {
      "cell_type": "code",
      "source": [
        "product_counts_loja3 = loja3['Produto'].value_counts()\n",
        "mais_vendido = product_counts_loja3.index[0]\n",
        "menos_vendido = product_counts_loja3.index[-1]\n",
        "print(\"O produto mais vendido na loja 3 é:\", mais_vendido)\n",
        "print(\"O produto menos vendido na loja 3 é:\", menos_vendido)\n"
      ],
      "metadata": {
        "colab": {
          "base_uri": "https://localhost:8080/"
        },
        "id": "76PAhfgn4wtW",
        "outputId": "f8a801e9-0cc7-47c6-f5f5-e380f0c1beeb"
      },
      "execution_count": 46,
      "outputs": [
        {
          "output_type": "stream",
          "name": "stdout",
          "text": [
            "O produto mais vendido na loja 3 é: Kit banquetas\n",
            "O produto menos vendido na loja 3 é: Blocos de montar\n"
          ]
        }
      ]
    },
    {
      "cell_type": "code",
      "source": [
        "product_counts_loja4 = loja4['Produto'].value_counts()\n",
        "mais_vendido = product_counts_loja4.index[0]\n",
        "menos_vendido = product_counts_loja4.index[-1]\n",
        "print(\"O produto mais vendido na loja 4 é:\", mais_vendido)\n",
        "print(\"O produto menos vendido na loja 4 é:\", menos_vendido)\n"
      ],
      "metadata": {
        "colab": {
          "base_uri": "https://localhost:8080/"
        },
        "id": "4Rlxm3Y742gL",
        "outputId": "19949625-3333-4c77-8404-09a959092402"
      },
      "execution_count": 47,
      "outputs": [
        {
          "output_type": "stream",
          "name": "stdout",
          "text": [
            "O produto mais vendido na loja 4 é: Cama box\n",
            "O produto menos vendido na loja 4 é: Guitarra\n"
          ]
        }
      ]
    },
    {
      "cell_type": "markdown",
      "source": [
        "# 5. Frete Médio por Loja\n"
      ],
      "metadata": {
        "id": "Fl0cGi3bZKqU"
      }
    },
    {
      "cell_type": "code",
      "source": [
        "Custo_médio_frete_LJ1 = loja['Frete'].mean()\n",
        "Custo_médio_frete_LJ2 = loja2['Frete'].mean()\n",
        "Custo_médio_frete_LJ3 = loja3['Frete'].mean()\n",
        "Custo_médio_frete_LJ4 = loja4['Frete'].mean()\n",
        "print(Custo_médio_frete_LJ1)\n",
        "print(Custo_médio_frete_LJ2)\n",
        "print(Custo_médio_frete_LJ3)\n",
        "print(Custo_médio_frete_LJ4)"
      ],
      "metadata": {
        "id": "S2JeaCykZNy9",
        "colab": {
          "base_uri": "https://localhost:8080/"
        },
        "outputId": "577458d8-f93c-49d8-963d-927f9fe15367"
      },
      "execution_count": 48,
      "outputs": [
        {
          "output_type": "stream",
          "name": "stdout",
          "text": [
            "34.69180491551149\n",
            "33.62194065817927\n",
            "33.07446427411743\n",
            "31.278997081841727\n"
          ]
        }
      ]
    },
    {
      "cell_type": "code",
      "source": [
        "Custo_médio_lojas = [Custo_médio_frete_LJ1, Custo_médio_frete_LJ2, Custo_médio_frete_LJ3, Custo_médio_frete_LJ4]\n",
        "print(Custo_médio_lojas)\n"
      ],
      "metadata": {
        "id": "0tSdCie9ZQlt",
        "colab": {
          "base_uri": "https://localhost:8080/"
        },
        "outputId": "a783c36b-af58-435c-8521-4217daac9a26"
      },
      "execution_count": 49,
      "outputs": [
        {
          "output_type": "stream",
          "name": "stdout",
          "text": [
            "[np.float64(34.69180491551149), np.float64(33.62194065817927), np.float64(33.07446427411743), np.float64(31.278997081841727)]\n"
          ]
        }
      ]
    },
    {
      "cell_type": "code",
      "source": [
        "Custo_médio_lojas_corrigido = [float(valor) for valor in Custo_médio_lojas]\n",
        "print(Custo_médio_lojas_corrigido)"
      ],
      "metadata": {
        "colab": {
          "base_uri": "https://localhost:8080/"
        },
        "id": "hNgJumcZ6bnU",
        "outputId": "7e8f3b4a-dfe7-4529-8eed-7c823fd3a2d0"
      },
      "execution_count": 50,
      "outputs": [
        {
          "output_type": "stream",
          "name": "stdout",
          "text": [
            "[34.69180491551149, 33.62194065817927, 33.07446427411743, 31.278997081841727]\n"
          ]
        }
      ]
    },
    {
      "cell_type": "code",
      "source": [
        "Custo_Frete_Medio_lojas = list(zip(nomes_lojas, Custo_médio_lojas_corrigido))\n",
        "print(Custo_Frete_Medio_lojas)"
      ],
      "metadata": {
        "colab": {
          "base_uri": "https://localhost:8080/"
        },
        "id": "nwd4-rwa6wWN",
        "outputId": "bea83a26-20b7-4021-d17c-d8583b37ca8b"
      },
      "execution_count": 51,
      "outputs": [
        {
          "output_type": "stream",
          "name": "stdout",
          "text": [
            "[('Loja1', 34.69180491551149), ('loja2', 33.62194065817927), ('loja3', 33.07446427411743), ('loja4', 31.278997081841727)]\n"
          ]
        }
      ]
    },
    {
      "cell_type": "code",
      "source": [
        "pip install matplotlib"
      ],
      "metadata": {
        "colab": {
          "base_uri": "https://localhost:8080/"
        },
        "id": "S3E1wukF7Xjc",
        "outputId": "bcfe395c-7ad7-4b82-fb09-53a252f99392"
      },
      "execution_count": 52,
      "outputs": [
        {
          "output_type": "stream",
          "name": "stdout",
          "text": [
            "Requirement already satisfied: matplotlib in /usr/local/lib/python3.11/dist-packages (3.10.0)\n",
            "Requirement already satisfied: contourpy>=1.0.1 in /usr/local/lib/python3.11/dist-packages (from matplotlib) (1.3.2)\n",
            "Requirement already satisfied: cycler>=0.10 in /usr/local/lib/python3.11/dist-packages (from matplotlib) (0.12.1)\n",
            "Requirement already satisfied: fonttools>=4.22.0 in /usr/local/lib/python3.11/dist-packages (from matplotlib) (4.57.0)\n",
            "Requirement already satisfied: kiwisolver>=1.3.1 in /usr/local/lib/python3.11/dist-packages (from matplotlib) (1.4.8)\n",
            "Requirement already satisfied: numpy>=1.23 in /usr/local/lib/python3.11/dist-packages (from matplotlib) (2.0.2)\n",
            "Requirement already satisfied: packaging>=20.0 in /usr/local/lib/python3.11/dist-packages (from matplotlib) (24.2)\n",
            "Requirement already satisfied: pillow>=8 in /usr/local/lib/python3.11/dist-packages (from matplotlib) (11.1.0)\n",
            "Requirement already satisfied: pyparsing>=2.3.1 in /usr/local/lib/python3.11/dist-packages (from matplotlib) (3.2.3)\n",
            "Requirement already satisfied: python-dateutil>=2.7 in /usr/local/lib/python3.11/dist-packages (from matplotlib) (2.8.2)\n",
            "Requirement already satisfied: six>=1.5 in /usr/local/lib/python3.11/dist-packages (from python-dateutil>=2.7->matplotlib) (1.17.0)\n"
          ]
        }
      ]
    },
    {
      "cell_type": "code",
      "source": [
        "import matplotlib.pyplot"
      ],
      "metadata": {
        "id": "n3kVWeFD7Z8u"
      },
      "execution_count": 53,
      "outputs": []
    },
    {
      "cell_type": "code",
      "source": [
        "matplotlib.pyplot.plot(nomes_lojas, faturamento_lojas_corrigido)\n",
        "plt.title('Faturamento das Lojas')"
      ],
      "metadata": {
        "colab": {
          "base_uri": "https://localhost:8080/",
          "height": 469
        },
        "id": "02_saBac7oIc",
        "outputId": "98e3b871-4243-4be6-b8b8-1900d554ec4b"
      },
      "execution_count": 107,
      "outputs": [
        {
          "output_type": "execute_result",
          "data": {
            "text/plain": [
              "Text(0.5, 1.0, 'Faturamento das Lojas')"
            ]
          },
          "metadata": {},
          "execution_count": 107
        },
        {
          "output_type": "display_data",
          "data": {
            "text/plain": [
              "<Figure size 640x480 with 1 Axes>"
            ],
            "image/png": "[encoded data removed]"
          },
          "metadata": {}
        }
      ]
    },
    {
      "cell_type": "code",
      "source": [
        "import matplotlib.pyplot as plt"
      ],
      "metadata": {
        "id": "0O7qV1Ul9ARF"
      },
      "execution_count": 66,
      "outputs": []
    },
    {
      "cell_type": "code",
      "source": [
        "plt.bar(nomes_lojas,faturamento_lojas_corrigido)\n",
        "plt.title('Faturamento das Lojas')\n",
        "plt.show()\n",
        "\n"
      ],
      "metadata": {
        "colab": {
          "base_uri": "https://localhost:8080/",
          "height": 452
        },
        "id": "Qc6DIGSL8w_r",
        "outputId": "a8e9743b-30f6-4109-eaad-73df9b2b4432"
      },
      "execution_count": 106,
      "outputs": [
        {
          "output_type": "display_data",
          "data": {
            "text/plain": [
              "<Figure size 640x480 with 1 Axes>"
            ],
            "image/png": "[encoded data removed]"
          },
          "metadata": {}
        }
      ]
    },
    {
      "cell_type": "code",
      "source": [
        "import matplotlib.pyplot as plt"
      ],
      "metadata": {
        "id": "aQA3uMvD9Qsq"
      },
      "execution_count": 62,
      "outputs": []
    },
    {
      "cell_type": "code",
      "source": [
        "plt.pie(faturamento_lojas_corrigido, labels=nomes_lojas, autopct='%1.1f%%')\n",
        "plt.title('Faturamento das Lojas')\n",
        "plt.show()"
      ],
      "metadata": {
        "colab": {
          "base_uri": "https://localhost:8080/",
          "height": 428
        },
        "id": "PD34UQxy9JqZ",
        "outputId": "bb76c451-fdf3-4743-91bf-f8265a027a8e"
      },
      "execution_count": 63,
      "outputs": [
        {
          "output_type": "display_data",
          "data": {
            "text/plain": [
              "<Figure size 640x480 with 1 Axes>"
            ],
            "image/png": "[encoded data removed]"
          },
          "metadata": {}
        }
      ]
    },
    {
      "cell_type": "code",
      "source": [
        "import matplotlib.pyplot as plt"
      ],
      "metadata": {
        "id": "wv96ueRr3Cmv"
      },
      "execution_count": 95,
      "outputs": []
    },
    {
      "cell_type": "code",
      "source": [
        "matplotlib.pyplot.plot(nomes_lojas, média_lojas_corrigido)\n",
        "plt.title('Média de Avaliação das Lojas')"
      ],
      "metadata": {
        "colab": {
          "base_uri": "https://localhost:8080/",
          "height": 470
        },
        "id": "Qfb5XYr53FEn",
        "outputId": "e21161ae-c44a-4946-d5b0-f21c8ba2fdb8"
      },
      "execution_count": 105,
      "outputs": [
        {
          "output_type": "execute_result",
          "data": {
            "text/plain": [
              "Text(0.5, 1.0, 'Média de Avaliação das Lojas')"
            ]
          },
          "metadata": {},
          "execution_count": 105
        },
        {
          "output_type": "display_data",
          "data": {
            "text/plain": [
              "<Figure size 640x480 with 1 Axes>"
            ],
            "image/png": "[encoded data removed]"
          },
          "metadata": {}
        }
      ]
    },
    {
      "cell_type": "code",
      "source": [
        "import matplotlib.pyplot as plt"
      ],
      "metadata": {
        "id": "DAmWHkit3mgC"
      },
      "execution_count": 97,
      "outputs": []
    },
    {
      "cell_type": "code",
      "source": [
        "plt.bar(nomes_lojas,média_lojas_corrigido)\n",
        "plt.title('Média de Avaliação das Lojas')\n",
        "plt.show()"
      ],
      "metadata": {
        "colab": {
          "base_uri": "https://localhost:8080/",
          "height": 453
        },
        "id": "wx7838EW3q4i",
        "outputId": "75418ae8-498a-450e-f293-19b69bf926fd"
      },
      "execution_count": 104,
      "outputs": [
        {
          "output_type": "display_data",
          "data": {
            "text/plain": [
              "<Figure size 640x480 with 1 Axes>"
            ],
            "image/png": "[encoded data removed]"
          },
          "metadata": {}
        }
      ]
    },
    {
      "cell_type": "code",
      "source": [
        "import matplotlib.pyplot as plt"
      ],
      "metadata": {
        "id": "vYg7qlOg5Iex"
      },
      "execution_count": 108,
      "outputs": []
    },
    {
      "cell_type": "code",
      "source": [
        "matplotlib.pyplot.plot(nomes_lojas, Custo_médio_lojas_corrigido)\n",
        "plt.title('Custo médio do frete das Lojas')"
      ],
      "metadata": {
        "colab": {
          "base_uri": "https://localhost:8080/",
          "height": 470
        },
        "id": "ZoBCKWFJ5VDC",
        "outputId": "83694689-d9cb-4c62-bd6b-0ec1050bcfec"
      },
      "execution_count": 110,
      "outputs": [
        {
          "output_type": "execute_result",
          "data": {
            "text/plain": [
              "Text(0.5, 1.0, 'Custo médio do frete das Lojas')"
            ]
          },
          "metadata": {},
          "execution_count": 110
        },
        {
          "output_type": "display_data",
          "data": {
            "text/plain": [
              "<Figure size 640x480 with 1 Axes>"
            ],
            "image/png": "[encoded data removed]"
          },
          "metadata": {}
        }
      ]
    },
    {
      "cell_type": "code",
      "source": [
        "import matplotlib.pyplot as plt"
      ],
      "metadata": {
        "id": "jOEDGFxG5oQ3"
      },
      "execution_count": 111,
      "outputs": []
    },
    {
      "cell_type": "code",
      "source": [
        "plt.bar(nomes_lojas,Custo_médio_lojas_corrigido)\n",
        "plt.title('Custo médio do frete das Lojas')\n",
        "plt.show()"
      ],
      "metadata": {
        "colab": {
          "base_uri": "https://localhost:8080/",
          "height": 453
        },
        "id": "NSJq90j65slv",
        "outputId": "eb6137e8-3ae7-4ca0-96ed-3bd8b67ee0c1"
      },
      "execution_count": 112,
      "outputs": [
        {
          "output_type": "display_data",
          "data": {
            "text/plain": [
              "<Figure size 640x480 with 1 Axes>"
            ],
            "image/png": "[encoded data removed]"
          },
          "metadata": {}
        }
      ]
    },
    {
      "cell_type": "markdown",
      "source": [
        "Relatório final:\n",
        "As análises realizadas tem por objetivo determinar qual loja deve ser vendida com base em critérios como Faturamento, categoria de produtos, avaliação dos clientes , produtos mais e menos vendidos e custo de frete médio.Loja 1:\n",
        "- Possui o maior faturamento;\n",
        "- Maior custo médio do frete;\n",
        "- Menor nota de avaliação de clientes;\n",
        "- A categoria mais vendida é brinquedos e a menos vendida e utilidades domésticas;\n",
        "\n",
        "Loja 2:\n",
        "- Possui o segundo maior faturamento entre as lojas;\n",
        "- Possui a 2 melhor avaliação de clientes entre as lojas;\n",
        "- Possui o segundo maior custo de frete;\n",
        "- A categoria mais vendida é brinquedos e a menos vendida e utilidades domésticas;\n",
        "\n",
        "Loja 3:\n",
        "- Possui o terceiro maior faturamento entre as lojas;\n",
        "- Possui o terceiro maior custo médio de frete entre as lojas;\n",
        "- Possui a melhor média de avaliação entre as lojas\n",
        "-A categoria mais vendida é brinquedos e a menos vendida e utilidades domésticas;\n",
        "\n",
        "Loja 4:\n",
        "- Possui o pior faturamento entre as lojas;\n",
        "- Possui o menor custo medio de frete;\n",
        "- Possui a terceira melhor avaliação de cliente;\n",
        "-A categoria mais vendida é brinquedos e a menos vendida e utilidades domésticas;\n",
        "\n",
        "Com base nos dados analisados, embora possua o menor custo médio de frete, eu recomendaria a venda da loja 4 em função de possuir o menor faturamento e a terceira pior nota de avaliação.\n",
        "\n",
        "\n"
      ],
      "metadata": {
        "id": "rigxL1OrSplJ"
      }
    }
  ]
}